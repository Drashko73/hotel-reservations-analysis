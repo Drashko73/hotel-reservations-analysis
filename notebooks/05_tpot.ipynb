{
 "cells": [
  {
   "cell_type": "markdown",
   "metadata": {},
   "source": [
    "## TPOT"
   ]
  },
  {
   "cell_type": "code",
   "execution_count": 1,
   "metadata": {},
   "outputs": [],
   "source": [
    "import pandas as pd\n",
    "import numpy as np  \n",
    "import matplotlib.pyplot as plt\n",
    "import seaborn as sns"
   ]
  },
  {
   "cell_type": "code",
   "execution_count": 2,
   "metadata": {},
   "outputs": [],
   "source": [
    "# Load the data\n",
    "data_train = pd.read_csv('../data/ml/hotel_reservations_train.csv')\n",
    "data_test = pd.read_csv('../data/ml/hotel_reservations_test.csv')\n",
    "\n",
    "X_train = data_train.drop('booking_status', axis=1)\n",
    "y_train = data_train['booking_status']\n",
    "\n",
    "X_test = data_test.drop('booking_status', axis=1)\n",
    "y_test = data_test['booking_status']"
   ]
  },
  {
   "cell_type": "code",
   "execution_count": 3,
   "metadata": {},
   "outputs": [],
   "source": [
    "from tpot import TPOTClassifier\n",
    "\n",
    "tpot = TPOTClassifier(\n",
    "    generations=10,                                             # Number of iterations to the run pipeline optimization process\n",
    "    population_size=100,                                        # Number of individuals to retain in the genetic programming population every generation\n",
    "    offspring_size=50,                                          # Number of offspring to produce in each genetic programming generation\n",
    "    mutation_rate=0.9,                                          # Mutation rate for the genetic programming algorithm in the range\n",
    "    crossover_rate=0.1,                                         # Crossover rate for the genetic programming algorithm in the range\n",
    "    scoring='accuracy',                                         # Function used to evaluate the quality of a given pipeline for the classification problem\n",
    "    cv=5,                                                       # Cross-validation strategy used when evaluating pipelines\n",
    "    subsample=0.8,                                              # Fraction of training samples that are used during the TPOT optimization process\n",
    "    n_jobs=-1,                                                  # Number of processes to use for evaluating pipelines in parallel during the TPOT optimization process\n",
    "    max_time_mins=60,                                           # How many minutes TPOT has to optimize the pipeline\n",
    "    max_eval_time_mins=5,                                       # How many minutes TPOT has to evaluate a single pipeline\n",
    "    random_state=42,                                            # The seed of the pseudo-random number generator used in TPOT\n",
    "    config_dict=None,                                           # A configuration dictionary for customizing TPOT’s operators and parameters\n",
    "    template=None,                                              # A pipeline template to begin the optimization process with\n",
    "    warm_start=False,                                           # Flag indicating if TPOT should reuse the population from previous calls to fit()\n",
    "    memory=None,                                                # A caching mechanism to use with TPOT\n",
    "    use_dask=False,                                             # Flag indicating if TPOT should use Dask for evaluation of the pipelines\n",
    "    periodic_checkpoint_folder='../.internal/checkpoints',      # Path to a directory where TPOT will save pipelines during the optimization process\n",
    "    early_stop=None,                                            # How many generations TPOT checks for early stopping. None means no early stopping\n",
    "    verbosity=2,                                                # How much information TPOT communicates while it’s running\n",
    "    log_file='../.internal/tpot.log',                           # Log file to write to\n",
    "    disable_update_check=False                                  # Flag indicating if TPOT should check for updates to the TPOT package\n",
    ")"
   ]
  },
  {
   "cell_type": "code",
   "execution_count": null,
   "metadata": {},
   "outputs": [],
   "source": [
    "# Fit the TPOT classifier\n",
    "tpot.fit(X_train, y_train)"
   ]
  }
 ],
 "metadata": {
  "kernelspec": {
   "display_name": ".venv",
   "language": "python",
   "name": "python3"
  },
  "language_info": {
   "codemirror_mode": {
    "name": "ipython",
    "version": 3
   },
   "file_extension": ".py",
   "mimetype": "text/x-python",
   "name": "python",
   "nbconvert_exporter": "python",
   "pygments_lexer": "ipython3",
   "version": "3.11.8"
  }
 },
 "nbformat": 4,
 "nbformat_minor": 2
}
